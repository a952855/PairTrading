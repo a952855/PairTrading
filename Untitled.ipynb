{
 "cells": [
  {
   "cell_type": "code",
   "execution_count": 8,
   "id": "filled-lending",
   "metadata": {},
   "outputs": [],
   "source": [
    "import pandas as pd"
   ]
  },
  {
   "cell_type": "code",
   "execution_count": 9,
   "id": "thorough-vermont",
   "metadata": {},
   "outputs": [],
   "source": [
    "# df = pd.read_excel ()\n",
    "xls = pd.ExcelFile(r'./files/PairTradeFoodIndustry.xlsx')\n",
    "df1 = pd.read_excel(xls, '1210大成+1201味全')\n",
    "# df2 = pd.read_excel(xls, 'Sheet2')\n",
    "\n",
    "\n",
    "# 0.068726401"
   ]
  },
  {
   "cell_type": "code",
   "execution_count": 10,
   "id": "executed-blanket",
   "metadata": {},
   "outputs": [],
   "source": [
    "'''\n",
    "標準差計算\n",
    "'''\n",
    "def get_standard_deviation(num_list):\n",
    "    \n",
    "    l = len(num_list)\n",
    "    num_sum = sum(num_list)\n",
    "    avg = num_sum / l\n",
    "    \n",
    "    total = 0\n",
    "    for num in num_list:\n",
    "        total += (num - avg) ** 2\n",
    "    \n",
    "    return round((total/(l-1)) ** 0.5, 9)"
   ]
  },
  {
   "cell_type": "code",
   "execution_count": 11,
   "id": "colored-material",
   "metadata": {},
   "outputs": [
    {
     "name": "stdout",
     "output_type": "stream",
     "text": [
      "0.068726401\n"
     ]
    }
   ],
   "source": [
    "\n",
    "diff_list = list(df1[df1['date'] < '2011-1-1']['diff'])\n",
    "\n",
    "print(get_standard_deviation(diff_list))"
   ]
  },
  {
   "cell_type": "code",
   "execution_count": 12,
   "id": "elect-sydney",
   "metadata": {},
   "outputs": [],
   "source": [
    "class PairTrading():\n",
    "    \n",
    "    df = None\n",
    "    prev_sd = 0\n",
    "    prev_avg = 0\n",
    "    \n",
    "    def __init__(self, df, prev_sd = None, prev_avg = None):\n",
    "        \n",
    "        self.df = df\n",
    "        self.prev_sd = prev_sd\n",
    "        self.prev_avg = prev_avg\n",
    "        \n",
    "    '''\n",
    "    計算標準差\n",
    "    '''\n",
    "    def get_standard_deviation(self):\n",
    "\n",
    "        num_list = list(self.df['diff'])\n",
    "        avg = self.get_average()\n",
    "\n",
    "        total = 0\n",
    "        l = len(num_list)\n",
    "        for num in num_list:\n",
    "            total += (num - avg) ** 2\n",
    "\n",
    "        return (total/(l-1)) ** 0.5\n",
    "\n",
    "    '''\n",
    "    計算平均\n",
    "    '''\n",
    "    def get_average(self):\n",
    "\n",
    "        num_list = list(self.df['diff'])\n",
    "        \n",
    "        return  sum(num_list) / len(num_list)\n",
    "\n",
    "    def get_result(self):\n",
    "        \n",
    "        is_open = False\n",
    "        trad = 0\n",
    "        prev_row = None\n",
    "        \n",
    "        gain = 0\n",
    "        total = 0\n",
    "        \n",
    "        # print(f'{df[\"date\"][0].year - 1}價差平均: {self.prev_avg}, 價差標準差: {self.prev_sd}')\n",
    "        \n",
    "        for index, row in self.df.iterrows():\n",
    "            \n",
    "            # 主要為XY之間標準化股價 價差大於 價差的平均加減1.5個價差的標準差 就開倉\n",
    "            if (((self.prev_avg + self.prev_sd * 1.5) < row['diff'] <= (self.prev_avg + self.prev_sd * 5)) or \n",
    "                ((self.prev_avg - self.prev_sd * 5) <= row['diff'] < (self.prev_avg - self.prev_sd * 1.5))) and \\\n",
    "                is_open == False:\n",
    "                \n",
    "                # print(f'{row[\"date\"]} 開倉')\n",
    "            \n",
    "                is_open = True                  \n",
    "                prev_row = row\n",
    "                \n",
    "            # XY之間標準化股價差收斂回價差的平均加減0.2個價差的標準差 就平倉，結算收益\n",
    "            elif ((self.prev_avg - self.prev_sd * 0.2) <= row['diff'] <= (self.prev_avg + self.prev_sd * 0.2)) \\\n",
    "                and is_open == True:\n",
    "                \n",
    "                # print(f'{row[\"date\"]} 平倉')\n",
    "                is_open = False\n",
    "                trad += 1\n",
    "                \n",
    "                total += prev_row[1] * prev_row[2] * 2\n",
    "                \n",
    "                if prev_row[3] > prev_row[4]:\n",
    "                    \n",
    "                    gain += (prev_row[1] - row[1]) * prev_row[2] \\\n",
    "                        + (row[2] - prev_row[2]) * prev_row[1]\n",
    "\n",
    "                elif prev_row[3] < prev_row[4]:\n",
    "                    \n",
    "                    gain += (row[1] - prev_row[1]) * prev_row[2] \\\n",
    "                        + (prev_row[2] - row[2]) * prev_row[1]\n",
    "                \n",
    "            # 主要為XY之間標準化股價 價差大於 價差的平均加減5個價差的標準差 就強制平倉，就算收益\n",
    "            elif ((row['diff'] > (self.prev_avg + self.prev_sd * 5) or \n",
    "                 row['diff'] < (self.prev_avg - self.prev_sd * 5)) and\n",
    "                 is_open == True):\n",
    "                \n",
    "                # print(f'{row[\"date\"]} 強制平倉')\n",
    "                is_open = False\n",
    "                trad += 1\n",
    "                \n",
    "                total += prev_row[1] * prev_row[2] * 2\n",
    "                \n",
    "                \n",
    "                if prev_row[3] > prev_row[4]:\n",
    "                    \n",
    "                    gain += (prev_row[1] - row[1]) * prev_row[2] \\\n",
    "                        + (row[2] - prev_row[2]) * prev_row[1]\n",
    "                    \n",
    "                elif prev_row[3] < prev_row[4]:\n",
    "                    \n",
    "                    gain += (prev_row[2] - row[2]) * prev_row[1] \\\n",
    "                        + (row[1] - prev_row[1]) * prev_row[2]\n",
    "                    \n",
    "#         return f'總共交易 {trad} 次, 報酬: {gain}, 總交易金額: {total} \\n'\n",
    "        return [self.df['date'][0].year, trad, gain / 10]"
   ]
  },
  {
   "cell_type": "code",
   "execution_count": 20,
   "id": "royal-productivity",
   "metadata": {
    "scrolled": true
   },
   "outputs": [
    {
     "data": {
      "text/html": [
       "<div>\n",
       "<style scoped>\n",
       "    .dataframe tbody tr th:only-of-type {\n",
       "        vertical-align: middle;\n",
       "    }\n",
       "\n",
       "    .dataframe tbody tr th {\n",
       "        vertical-align: top;\n",
       "    }\n",
       "\n",
       "    .dataframe thead th {\n",
       "        text-align: right;\n",
       "    }\n",
       "</style>\n",
       "<table border=\"1\" class=\"dataframe\">\n",
       "  <thead>\n",
       "    <tr style=\"text-align: right;\">\n",
       "      <th></th>\n",
       "      <th>年分</th>\n",
       "      <th>交易次數</th>\n",
       "      <th>總報酬</th>\n",
       "    </tr>\n",
       "  </thead>\n",
       "  <tbody>\n",
       "    <tr>\n",
       "      <th>0</th>\n",
       "      <td>2011</td>\n",
       "      <td>1.0</td>\n",
       "      <td>4.521314</td>\n",
       "    </tr>\n",
       "    <tr>\n",
       "      <th>1</th>\n",
       "      <td>2012</td>\n",
       "      <td>0.0</td>\n",
       "      <td>0.000000</td>\n",
       "    </tr>\n",
       "    <tr>\n",
       "      <th>2</th>\n",
       "      <td>2013</td>\n",
       "      <td>7.0</td>\n",
       "      <td>-15.526993</td>\n",
       "    </tr>\n",
       "    <tr>\n",
       "      <th>3</th>\n",
       "      <td>2014</td>\n",
       "      <td>2.0</td>\n",
       "      <td>-3.923101</td>\n",
       "    </tr>\n",
       "    <tr>\n",
       "      <th>4</th>\n",
       "      <td>2015</td>\n",
       "      <td>0.0</td>\n",
       "      <td>0.000000</td>\n",
       "    </tr>\n",
       "    <tr>\n",
       "      <th>5</th>\n",
       "      <td>2016</td>\n",
       "      <td>3.0</td>\n",
       "      <td>-2.812964</td>\n",
       "    </tr>\n",
       "    <tr>\n",
       "      <th>6</th>\n",
       "      <td>2017</td>\n",
       "      <td>1.0</td>\n",
       "      <td>9.949868</td>\n",
       "    </tr>\n",
       "    <tr>\n",
       "      <th>7</th>\n",
       "      <td>2018</td>\n",
       "      <td>2.0</td>\n",
       "      <td>1.448152</td>\n",
       "    </tr>\n",
       "    <tr>\n",
       "      <th>8</th>\n",
       "      <td>2019</td>\n",
       "      <td>2.0</td>\n",
       "      <td>12.631081</td>\n",
       "    </tr>\n",
       "    <tr>\n",
       "      <th>9</th>\n",
       "      <td>2020</td>\n",
       "      <td>0.0</td>\n",
       "      <td>0.000000</td>\n",
       "    </tr>\n",
       "    <tr>\n",
       "      <th>平均</th>\n",
       "      <td></td>\n",
       "      <td>1.8</td>\n",
       "      <td>0.628736</td>\n",
       "    </tr>\n",
       "  </tbody>\n",
       "</table>\n",
       "</div>"
      ],
      "text/plain": [
       "      年分  交易次數        總報酬\n",
       "0   2011   1.0   4.521314\n",
       "1   2012   0.0   0.000000\n",
       "2   2013   7.0 -15.526993\n",
       "3   2014   2.0  -3.923101\n",
       "4   2015   0.0   0.000000\n",
       "5   2016   3.0  -2.812964\n",
       "6   2017   1.0   9.949868\n",
       "7   2018   2.0   1.448152\n",
       "8   2019   2.0  12.631081\n",
       "9   2020   0.0   0.000000\n",
       "平均         1.8   0.628736"
      ]
     },
     "execution_count": 20,
     "metadata": {},
     "output_type": "execute_result"
    }
   ],
   "source": [
    "'''\n",
    "group by data\n",
    "'''\n",
    "df1.index = pd.to_datetime(df1['date'], format='%y/%m/%d')\n",
    "grouped_df = df1.groupby(by=[df1.index.year])\n",
    "\n",
    "df_list = [group for name, group in grouped_df]\n",
    "\n",
    "# PairTrading\n",
    "sd = 0\n",
    "avg = 0\n",
    "\n",
    "\n",
    "data = []\n",
    "for i, df in enumerate(df_list):\n",
    "    \n",
    "    if i == 0:\n",
    "        pt = PairTrading(df)\n",
    "    else:\n",
    "        pt = PairTrading(df, sd, avg)\n",
    "        data.append(pt.get_result())\n",
    "        \n",
    "    sd = pt.get_standard_deviation()\n",
    "    avg = pt.get_average()\n",
    "    \n",
    "ans_df = pd.DataFrame(\n",
    "    data,\n",
    "    columns=['年分', '交易次數', '總報酬'])\n",
    "\n",
    "average = ans_df.mean()\n",
    "average['年分'] = ''\n",
    "ans_df.loc['平均'] = average\n",
    "\n",
    "ans_df"
   ]
  },
  {
   "cell_type": "code",
   "execution_count": 11,
   "id": "corporate-platform",
   "metadata": {},
   "outputs": [],
   "source": [
    "ans_df.to_excel(\"output.xlsx\")\n",
    "\n",
    "writer = pd.ExcelWriter('output.xlsx', engine='xlsxwriter')"
   ]
  },
  {
   "cell_type": "code",
   "execution_count": 9,
   "id": "wooden-expense",
   "metadata": {},
   "outputs": [
    {
     "data": {
      "text/plain": [
       "False"
      ]
     },
     "execution_count": 9,
     "metadata": {},
     "output_type": "execute_result"
    }
   ],
   "source": [
    "-0.073035717 < -0.074670967 < 0.090777318\n",
    "\n"
   ]
  },
  {
   "cell_type": "code",
   "execution_count": 10,
   "id": "built-sacramento",
   "metadata": {},
   "outputs": [
    {
     "ename": "SyntaxError",
     "evalue": "invalid syntax (<ipython-input-10-d366da4ea116>, line 1)",
     "output_type": "error",
     "traceback": [
      "\u001b[1;36m  File \u001b[1;32m\"<ipython-input-10-d366da4ea116>\"\u001b[1;36m, line \u001b[1;32m1\u001b[0m\n\u001b[1;33m    date       x        y        x stand     y stand\u001b[0m\n\u001b[1;37m               ^\u001b[0m\n\u001b[1;31mSyntaxError\u001b[0m\u001b[1;31m:\u001b[0m invalid syntax\n"
     ]
    }
   ],
   "source": [
    "date       x        y        x stand     y stand\n",
    "2013/1/14  13.1495  37.1708 1.001859033  1.07653\n",
    "2013/4/25  12.0516  40.7087 0.918210147  1.17899\n",
    "\n",
    "\n"
   ]
  },
  {
   "cell_type": "code",
   "execution_count": 11,
   "id": "thirty-final",
   "metadata": {},
   "outputs": [
    {
     "data": {
      "text/plain": [
       "40.80982131999997"
      ]
     },
     "execution_count": 11,
     "metadata": {},
     "output_type": "execute_result"
    }
   ],
   "source": [
    "(13.1495 - 12.0516) * 37.1708"
   ]
  },
  {
   "cell_type": "code",
   "execution_count": 12,
   "id": "inner-encounter",
   "metadata": {},
   "outputs": [
    {
     "data": {
      "text/plain": [
       "42.63735564000001"
      ]
     },
     "execution_count": 12,
     "metadata": {},
     "output_type": "execute_result"
    }
   ],
   "source": [
    "(40.7087 - 37.1708) * 12.0516"
   ]
  },
  {
   "cell_type": "code",
   "execution_count": 14,
   "id": "familiar-gallery",
   "metadata": {},
   "outputs": [],
   "source": [
    "import tkinter as tk\n",
    "from tkinter import ttk"
   ]
  },
  {
   "cell_type": "code",
   "execution_count": 17,
   "id": "corrected-montgomery",
   "metadata": {},
   "outputs": [],
   "source": [
    "root = tk.Tk()\n",
    "df = df_list[0]\n",
    "cols = list(df.columns)\n",
    "\n",
    "tree = ttk.Treeview(root)\n",
    "tree.pack()\n",
    "tree[\"columns\"] = cols\n",
    "for i in cols:\n",
    "    tree.column(i, anchor=\"w\")\n",
    "    tree.heading(i, text=i, anchor='w')\n",
    "\n",
    "for index, row in df.iterrows():\n",
    "    tree.insert(\"\",0,text=index,values=list(row))\n",
    "\n",
    "root.mainloop()"
   ]
  },
  {
   "cell_type": "code",
   "execution_count": null,
   "id": "second-ordering",
   "metadata": {},
   "outputs": [],
   "source": []
  }
 ],
 "metadata": {
  "kernelspec": {
   "display_name": "Python 3",
   "language": "python",
   "name": "python3"
  },
  "language_info": {
   "codemirror_mode": {
    "name": "ipython",
    "version": 3
   },
   "file_extension": ".py",
   "mimetype": "text/x-python",
   "name": "python",
   "nbconvert_exporter": "python",
   "pygments_lexer": "ipython3",
   "version": "3.6.5"
  }
 },
 "nbformat": 4,
 "nbformat_minor": 5
}
