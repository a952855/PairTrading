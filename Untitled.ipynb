{
 "cells": [
  {
   "cell_type": "code",
   "execution_count": 1,
   "id": "filled-lending",
   "metadata": {},
   "outputs": [],
   "source": [
    "import pandas as pd"
   ]
  },
  {
   "cell_type": "code",
   "execution_count": 2,
   "id": "thorough-vermont",
   "metadata": {},
   "outputs": [],
   "source": [
    "# df = pd.read_excel ()\n",
    "xls = pd.ExcelFile(r'./files/PairTradeFoodIndustry.xlsx')\n",
    "df1 = pd.read_excel(xls, '1210大成+1201味全')\n",
    "# df2 = pd.read_excel(xls, 'Sheet2')\n",
    "\n",
    "\n",
    "# 0.068726401"
   ]
  },
  {
   "cell_type": "code",
   "execution_count": 3,
   "id": "executed-blanket",
   "metadata": {},
   "outputs": [],
   "source": [
    "'''\n",
    "標準差計算\n",
    "'''\n",
    "def get_standard_deviation(num_list):\n",
    "    \n",
    "    l = len(num_list)\n",
    "    num_sum = sum(num_list)\n",
    "    avg = num_sum / l\n",
    "    \n",
    "    total = 0\n",
    "    for num in num_list:\n",
    "        total += (num - avg) ** 2\n",
    "    \n",
    "    return round((total/(l-1)) ** 0.5, 9)"
   ]
  },
  {
   "cell_type": "code",
   "execution_count": 4,
   "id": "colored-material",
   "metadata": {},
   "outputs": [
    {
     "name": "stdout",
     "output_type": "stream",
     "text": [
      "0.068726401\n"
     ]
    }
   ],
   "source": [
    "\n",
    "diff_list = list(df1[df1['date'] < '2011-1-1']['diff'])\n",
    "\n",
    "print(get_standard_deviation(diff_list))"
   ]
  },
  {
   "cell_type": "code",
   "execution_count": 134,
   "id": "elect-sydney",
   "metadata": {},
   "outputs": [],
   "source": [
    "class PairTrading():\n",
    "    \n",
    "    df = None\n",
    "    prev_sd = 0\n",
    "    prev_avg = 0\n",
    "    \n",
    "    def __init__(self, df, prev_sd = None, prev_avg = None):\n",
    "        \n",
    "        self.df = df\n",
    "        self.prev_sd = prev_sd\n",
    "        self.prev_avg = prev_avg\n",
    "        \n",
    "    '''\n",
    "    計算標準差\n",
    "    '''\n",
    "    def get_standard_deviation(self):\n",
    "\n",
    "        num_list = list(self.df['diff'])\n",
    "        avg = self.get_average()\n",
    "\n",
    "        total = 0\n",
    "        l = len(num_list)\n",
    "        for num in num_list:\n",
    "            total += (num - avg) ** 2\n",
    "\n",
    "        return (total/(l-1)) ** 0.5\n",
    "\n",
    "    '''\n",
    "    計算平均\n",
    "    '''\n",
    "    def get_average(self):\n",
    "\n",
    "        num_list = list(self.df['diff'])\n",
    "        \n",
    "        return  sum(num_list) / len(num_list)\n",
    "\n",
    "    def get_result(self):\n",
    "        \n",
    "        is_open = False\n",
    "        trad = 0\n",
    "        prev_row = None\n",
    "        \n",
    "        gain = 0\n",
    "        total = 0\n",
    "        \n",
    "        print(f'{df[\"date\"][0].year - 1}價差平均: {self.prev_avg}, 價差標準差: {self.prev_sd}')\n",
    "        \n",
    "        for index, row in self.df.iterrows():\n",
    "            \n",
    "            # 主要為XY之間標準化股價 價差大於 價差的平均加減1.5個價差的標準差 就開倉\n",
    "            if (((self.prev_avg + self.prev_sd * 1.5) < row['diff'] <= (self.prev_avg + self.prev_sd * 5)) or \n",
    "                ((self.prev_avg - self.prev_sd * 5) <= row['diff'] < (self.prev_avg - self.prev_sd * 1.5))) and \\\n",
    "                is_open == False:\n",
    "                \n",
    "                print(f'{row[\"date\"]} 開倉')\n",
    "            \n",
    "                is_open = True                  \n",
    "                prev_row = row\n",
    "                \n",
    "            # XY之間標準化股價差收斂回價差的平均加減0.2個價差的標準差 就平倉，結算收益\n",
    "            elif ((self.prev_avg - self.prev_sd * 0.2) <= row['diff'] <= (self.prev_avg + self.prev_sd * 0.2)) \\\n",
    "                and is_open == True:\n",
    "                \n",
    "                print(f'{row[\"date\"]} 平倉')\n",
    "                is_open = False\n",
    "                trad += 1\n",
    "                \n",
    "                total += prev_row[1] * prev_row[2] * 2\n",
    "                \n",
    "                if prev_row[3] > prev_row[4]:\n",
    "                    \n",
    "                    gain += (prev_row[1] - row[1]) * prev_row[2] \\\n",
    "                        + (row[2] - prev_row[2]) * prev_row[1]\n",
    "\n",
    "                elif prev_row[3] < prev_row[4]:\n",
    "                    \n",
    "                    gain += (row[1] - prev_row[1]) * prev_row[2] \\\n",
    "                        + (prev_row[2] - row[2]) * prev_row[1]\n",
    "                \n",
    "            # 主要為XY之間標準化股價 價差大於 價差的平均加減5個價差的標準差 就強制平倉，就算收益\n",
    "            elif ((row['diff'] > (self.prev_avg + self.prev_sd * 5) or \n",
    "                 row['diff'] < (self.prev_avg - self.prev_sd * 5)) and\n",
    "                 is_open == True):\n",
    "                \n",
    "                print(f'{row[\"date\"]} 強制平倉')\n",
    "                is_open = False\n",
    "                trad += 1\n",
    "                \n",
    "                total += prev_row[1] * prev_row[2] * 2\n",
    "                \n",
    "                \n",
    "                if prev_row[3] > prev_row[4]:\n",
    "                    \n",
    "                    gain += (prev_row[1] - row[1]) * prev_row[2] \\\n",
    "                        + (row[2] - prev_row[2]) * prev_row[1]\n",
    "                    \n",
    "                elif prev_row[3] < prev_row[4]:\n",
    "                    \n",
    "                    gain += (prev_row[2] - row[2]) * prev_row[1] \\\n",
    "                        + (row[1] - prev_row[1]) * prev_row[2]\n",
    "                    \n",
    "        return f'總共交易 {trad} 次, 報酬: {gain}, 總交易金額: {total} \\n'"
   ]
  },
  {
   "cell_type": "code",
   "execution_count": 135,
   "id": "royal-productivity",
   "metadata": {},
   "outputs": [
    {
     "name": "stdout",
     "output_type": "stream",
     "text": [
      "2010價差平均: 0.07168551886414347, 價差標準差: 0.06872640118479133\n",
      "2011-04-13 00:00:00 開倉\n",
      "2011-12-20 00:00:00 平倉\n",
      "總共交易 1 次, 報酬: 45.21314196999999, 總交易金額: 802.32481802 \n",
      "\n",
      "2011價差平均: 0.14149135220850198, 價差標準差: 0.058083208178179455\n",
      "2012-01-02 00:00:00 開倉\n",
      "總共交易 0 次, 報酬: 0, 總交易金額: 0 \n",
      "\n",
      "2012價差平均: 0.008870800455199997, 價差標準差: 0.0546043452685326\n",
      "2013-01-14 00:00:00 開倉\n",
      "2013-04-25 00:00:00 強制平倉\n",
      "2013-04-26 00:00:00 開倉\n",
      "2013-04-30 00:00:00 強制平倉\n",
      "2013-05-06 00:00:00 開倉\n",
      "2013-05-08 00:00:00 強制平倉\n",
      "2013-05-09 00:00:00 開倉\n",
      "2013-05-13 00:00:00 強制平倉\n",
      "2013-05-15 00:00:00 開倉\n",
      "2013-05-17 00:00:00 強制平倉\n",
      "2013-11-07 00:00:00 開倉\n",
      "2013-11-15 00:00:00 強制平倉\n",
      "2013-11-20 00:00:00 開倉\n",
      "2013-12-03 00:00:00 強制平倉\n",
      "總共交易 7 次, 報酬: -155.2699251200002, 總交易金額: 7330.79852088 \n",
      "\n",
      "2013價差平均: -0.31286534110569114, 價差標準差: 0.15014794021618033\n",
      "2014-01-02 00:00:00 開倉\n",
      "2014-06-06 00:00:00 強制平倉\n",
      "2014-07-04 00:00:00 開倉\n",
      "2014-08-15 00:00:00 強制平倉\n",
      "總共交易 2 次, 報酬: -39.23100866, 總交易金額: 2750.4473479 \n",
      "\n",
      "2014價差平均: 0.4610737157391129, 價差標準差: 0.3080836516185003\n",
      "2015-01-06 00:00:00 開倉\n",
      "總共交易 0 次, 報酬: 0, 總交易金額: 0 \n",
      "\n",
      "2015價差平均: -0.030365826325819655, 價差標準差: 0.05645221489268846\n",
      "2016-03-14 00:00:00 開倉\n",
      "2016-05-11 00:00:00 平倉\n",
      "2016-05-16 00:00:00 開倉\n",
      "2016-07-12 00:00:00 強制平倉\n",
      "2016-07-13 00:00:00 開倉\n",
      "2016-09-19 00:00:00 強制平倉\n",
      "總共交易 3 次, 報酬: -28.129639390000047, 總交易金額: 2029.01933676 \n",
      "\n",
      "2016價差平均: 0.14469486785737706, 價差標準差: 0.1882697322100515\n",
      "2017-02-06 00:00:00 開倉\n",
      "2017-07-05 00:00:00 平倉\n",
      "總共交易 1 次, 報酬: 99.49868458000003, 總交易金額: 804.71240632 \n",
      "\n",
      "2017價差平均: 0.029273292865040646, 價差標準差: 0.07874807795130828\n",
      "2018-01-03 00:00:00 開倉\n",
      "2018-05-14 00:00:00 平倉\n",
      "2018-09-28 00:00:00 開倉\n",
      "2018-11-07 00:00:00 平倉\n",
      "總共交易 2 次, 報酬: 14.481522529999992, 總交易金額: 2342.09833394 \n",
      "\n",
      "2018價差平均: 0.028629817017004056, 價差標準差: 0.08791681025996112\n",
      "2019-04-23 00:00:00 開倉\n",
      "2019-06-25 00:00:00 強制平倉\n",
      "2019-06-27 00:00:00 開倉\n",
      "2019-09-18 00:00:00 平倉\n",
      "2019-12-03 00:00:00 開倉\n",
      "總共交易 2 次, 報酬: 126.31080866000013, 總交易金額: 3774.12143748 \n",
      "\n",
      "2019價差平均: -0.04890121678512396, 價差標準差: 0.15261209116217167\n",
      "2020-07-15 00:00:00 開倉\n",
      "總共交易 0 次, 報酬: 0, 總交易金額: 0 \n",
      "\n"
     ]
    }
   ],
   "source": [
    "'''\n",
    "group by data\n",
    "'''\n",
    "df1.index = pd.to_datetime(df1['date'], format='%y/%m/%d')\n",
    "grouped_df = df1.groupby(by=[df1.index.year])\n",
    "\n",
    "df_list = [group for name, group in grouped_df]\n",
    "\n",
    "# PairTrading\n",
    "sd = 0\n",
    "avg = 0\n",
    "\n",
    "for i, df in enumerate(df_list):\n",
    "    \n",
    "    if i == 0:\n",
    "        pt = PairTrading(df)\n",
    "    else:\n",
    "        pt = PairTrading(df, sd, avg)\n",
    "        print(pt.get_result())\n",
    "    sd = pt.get_standard_deviation()\n",
    "    avg = pt.get_average()\n",
    "    \n",
    "    "
   ]
  },
  {
   "cell_type": "code",
   "execution_count": 108,
   "id": "corporate-platform",
   "metadata": {},
   "outputs": [],
   "source": [
    "pt2010 = PairTrading(df1[df1['date'] < '2011-1-1'])\n",
    "pt2011 = PairTrading(\n",
    "    df1[(df1['date'] >= '2011-1-1') & (df1['date'] < '2012-1-1')], \n",
    "    pt2010.get_standard_deviation(), \n",
    "    pt2010.get_average())\n"
   ]
  },
  {
   "cell_type": "code",
   "execution_count": 41,
   "id": "parental-murder",
   "metadata": {},
   "outputs": [
    {
     "data": {
      "text/plain": [
       "0.0579402388"
      ]
     },
     "execution_count": 41,
     "metadata": {},
     "output_type": "execute_result"
    }
   ],
   "source": [
    "\n",
    "\n",
    "pt2011.get_result()\n",
    "\n"
   ]
  },
  {
   "cell_type": "code",
   "execution_count": 101,
   "id": "wooden-expense",
   "metadata": {},
   "outputs": [
    {
     "data": {
      "text/plain": [
       "False"
      ]
     },
     "execution_count": 101,
     "metadata": {},
     "output_type": "execute_result"
    }
   ],
   "source": [
    "-0.073035717 < -0.074670967 < 0.090777318\n",
    "\n"
   ]
  },
  {
   "cell_type": "code",
   "execution_count": 127,
   "id": "built-sacramento",
   "metadata": {},
   "outputs": [
    {
     "ename": "SyntaxError",
     "evalue": "invalid syntax (<ipython-input-127-857e671b8491>, line 1)",
     "output_type": "error",
     "traceback": [
      "\u001b[1;36m  File \u001b[1;32m\"<ipython-input-127-857e671b8491>\"\u001b[1;36m, line \u001b[1;32m1\u001b[0m\n\u001b[1;33m    x        y        xs          ys\u001b[0m\n\u001b[1;37m             ^\u001b[0m\n\u001b[1;31mSyntaxError\u001b[0m\u001b[1;31m:\u001b[0m invalid syntax\n"
     ]
    }
   ],
   "source": [
    "date       x        y        x stand     y stand\n",
    "2013/1/14  13.1495  37.1708 1.001859033  1.07653\n",
    "2013/4/25  12.0516  40.7087 0.918210147  1.17899\n",
    "\n",
    "\n"
   ]
  },
  {
   "cell_type": "code",
   "execution_count": 128,
   "id": "thirty-final",
   "metadata": {},
   "outputs": [
    {
     "data": {
      "text/plain": [
       "40.80982131999997"
      ]
     },
     "execution_count": 128,
     "metadata": {},
     "output_type": "execute_result"
    }
   ],
   "source": [
    "(13.1495 - 12.0516) * 37.1708"
   ]
  },
  {
   "cell_type": "code",
   "execution_count": 129,
   "id": "inner-encounter",
   "metadata": {},
   "outputs": [
    {
     "data": {
      "text/plain": [
       "42.63735564000001"
      ]
     },
     "execution_count": 129,
     "metadata": {},
     "output_type": "execute_result"
    }
   ],
   "source": [
    "(40.7087 - 37.1708) * 12.0516"
   ]
  },
  {
   "cell_type": "code",
   "execution_count": null,
   "id": "familiar-gallery",
   "metadata": {},
   "outputs": [],
   "source": []
  }
 ],
 "metadata": {
  "kernelspec": {
   "display_name": "Python 3",
   "language": "python",
   "name": "python3"
  },
  "language_info": {
   "codemirror_mode": {
    "name": "ipython",
    "version": 3
   },
   "file_extension": ".py",
   "mimetype": "text/x-python",
   "name": "python",
   "nbconvert_exporter": "python",
   "pygments_lexer": "ipython3",
   "version": "3.6.5"
  }
 },
 "nbformat": 4,
 "nbformat_minor": 5
}
