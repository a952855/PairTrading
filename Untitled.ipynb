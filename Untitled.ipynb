{
 "cells": [
  {
   "cell_type": "code",
   "execution_count": 1,
   "id": "filled-lending",
   "metadata": {},
   "outputs": [],
   "source": [
    "import pandas as pd"
   ]
  },
  {
   "cell_type": "code",
   "execution_count": 30,
   "id": "thorough-vermont",
   "metadata": {},
   "outputs": [],
   "source": [
    "# df = pd.read_excel ()\n",
    "xls = pd.ExcelFile(r'.\\files\\PairTradeFoodIndustry.xlsx')\n",
    "df1 = pd.read_excel(xls, '1210大成+1201味全')\n",
    "# df2 = pd.read_excel(xls, 'Sheet2')\n",
    "\n",
    "\n",
    "# 0.068726401"
   ]
  },
  {
   "cell_type": "code",
   "execution_count": 39,
   "id": "executed-blanket",
   "metadata": {},
   "outputs": [],
   "source": [
    "def get_standard_deviation(num_list):\n",
    "    \n",
    "    l = len(num_list)\n",
    "    num_sum = sum(num_list)\n",
    "    avg = num_sum / l\n",
    "    \n",
    "    total = 0\n",
    "    for diff in diffList:\n",
    "        total += (diff - avg) ** 2\n",
    "    \n",
    "    return round((i/(l-1)) ** 0.5, 9)"
   ]
  },
  {
   "cell_type": "code",
   "execution_count": 40,
   "id": "colored-material",
   "metadata": {},
   "outputs": [
    {
     "name": "stdout",
     "output_type": "stream",
     "text": [
      "0.068726401\n"
     ]
    }
   ],
   "source": [
    "diff_list = list(df1[df1['date'] < '2011-1-1']['diff'])\n",
    "\n",
    "print(get_standard_deviation(diff_list))"
   ]
  },
  {
   "cell_type": "code",
   "execution_count": null,
   "id": "weekly-lottery",
   "metadata": {},
   "outputs": [],
   "source": []
  }
 ],
 "metadata": {
  "kernelspec": {
   "display_name": "Python 3",
   "language": "python",
   "name": "python3"
  },
  "language_info": {
   "codemirror_mode": {
    "name": "ipython",
    "version": 3
   },
   "file_extension": ".py",
   "mimetype": "text/x-python",
   "name": "python",
   "nbconvert_exporter": "python",
   "pygments_lexer": "ipython3",
   "version": "3.6.5"
  }
 },
 "nbformat": 4,
 "nbformat_minor": 5
}
